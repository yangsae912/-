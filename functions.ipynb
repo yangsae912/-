{
  "nbformat": 4,
  "nbformat_minor": 0,
  "metadata": {
    "colab": {
      "provenance": []
    },
    "kernelspec": {
      "name": "python3",
      "display_name": "Python 3"
    },
    "language_info": {
      "name": "python"
    }
  },
  "cells": [
    {
      "cell_type": "code",
      "source": [
        "from google.colab import drive\n",
        "drive.mount('/content/drive')"
      ],
      "metadata": {
        "colab": {
          "base_uri": "https://localhost:8080/"
        },
        "id": "DgDHa5ZFJaRg",
        "outputId": "81db7b4f-2136-4949-9ea5-b4fa9545f854"
      },
      "execution_count": 44,
      "outputs": [
        {
          "output_type": "stream",
          "name": "stdout",
          "text": [
            "Drive already mounted at /content/drive; to attempt to forcibly remount, call drive.mount(\"/content/drive\", force_remount=True).\n"
          ]
        }
      ]
    },
    {
      "cell_type": "code",
      "execution_count": 6,
      "metadata": {
        "id": "3vkCWLL24A_A"
      },
      "outputs": [],
      "source": [
        "import re\n",
        "import pandas as pd\n",
        "from konlpy.tag import Komoran, Kkma, Mecab, Okt, Hannanum"
      ]
    },
    {
      "cell_type": "code",
      "source": [
        "komoran = Komoran()\n",
        "kkma = Kkma()\n",
        "okt = Okt()\n",
        "hannanum = Hannanum()\n",
        "mecab = Mecab()"
      ],
      "metadata": {
        "id": "VLNzw40x4CwH"
      },
      "execution_count": 8,
      "outputs": []
    },
    {
      "cell_type": "code",
      "source": [
        "#모든 이모지를 찾는 정규 표현식\n",
        "emoji_pattern = re.compile(\n",
        "\n",
        " \"[\"\n",
        " \"\\U0001F600-\\U0001F604F\" # 스마일리 표정 이모지\n",
        " \"\\U0001F300-\\U0001F5FF\" # 다양한 기호 및 선 그림 이모지\n",
        " \"\\U0001F680-\\U0001F6FF\" # 자동차, 비행기 등의 이모지\n",
        " \"\\U0001F1E0-\\U0001F1FF\" # 국기 이모지\n",
        "\n",
        " \"]+\"  # 여러 이모지가 연속적으로 나타날 수 있는 경우\n",
        " , flags = re.UNICODE,\n",
        "\n",
        ")\n"
      ],
      "metadata": {
        "id": "Nmyrpwj26vpr"
      },
      "execution_count": 34,
      "outputs": []
    },
    {
      "cell_type": "code",
      "source": [
        "def get_data(file_path):\n",
        "  data = pd.read_excel(file_path, engine = 'openpyxl', encoding = 'cp949')\n",
        "  return data\n"
      ],
      "metadata": {
        "id": "44wyRi2Z40jR"
      },
      "execution_count": 20,
      "outputs": []
    },
    {
      "cell_type": "code",
      "source": [
        "def get_data_list(data):\n",
        "  data_list = data.values.tolist()\n",
        "  return data_list"
      ],
      "metadata": {
        "id": "hNpYkUVD77I4"
      },
      "execution_count": 21,
      "outputs": []
    },
    {
      "cell_type": "code",
      "source": [
        "def get_file(save_file_path, tagger):\n",
        "  f = open(save_file_path)"
      ],
      "metadata": {
        "id": "qzmRYFgj9ePr"
      },
      "execution_count": 22,
      "outputs": []
    },
    {
      "cell_type": "code",
      "source": [
        "def write_to_file(emoji_pattern, data_list, file_path, file_name, tagger):\n",
        "    \"\"\"\n",
        "    Parameters:\n",
        "    - emoji_pattern (re.Pattern): 이모지를 찾기 위한 정규 표현식 패턴\n",
        "    - data_list (list): 형태소 분석할 데이터 리스트\n",
        "    - file_path (str): 파일이 위치할 디렉토리의 경로\n",
        "    - file_name (str): 생성될 파일의 이름\n",
        "    - tagger: 형태소 분석기 (예: KoNLPy의 Twitter 등)\n",
        "\n",
        "    Returns:\n",
        "    - None\n",
        "    \"\"\"\n",
        "    # 파일의 전체 경로를 생성합니다.\n",
        "    full_path = f\"{file_path}/{file_name}\"\n",
        "\n",
        "    # 파일을 쓰기 모드로 엽니다.\n",
        "    f = open(full_path, \"w\", encoding=\"UTF-8\")\n",
        "\n",
        "    for i in data_list:\n",
        "      try:\n",
        "        tag_data = tagger.pos(emoji_pattern.sub(r\"\", i[1]), flatten = True)\n",
        "\n",
        "        f.write(\n",
        "            str(tag_data)\n",
        "            .replace(\"[\", \"\")\n",
        "            .replace(\"('\", \"\")\n",
        "            .replace(\"',\", \" /\")\n",
        "            .replace(\"')\", \"\")\n",
        "            .replace(\"'\", \"\")\n",
        "            .replace(\"]\", \"\\n\")\n",
        "\n",
        "\n",
        "\n",
        "        )\n",
        "      except Exception as e:\n",
        "        pass\n",
        "    f.close()\n"
      ],
      "metadata": {
        "id": "mPz8mnUM9ymy"
      },
      "execution_count": 30,
      "outputs": []
    }
  ]
}